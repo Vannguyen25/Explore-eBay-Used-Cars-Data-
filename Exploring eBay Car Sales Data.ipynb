{
 "cells": [
  {
   "cell_type": "markdown",
   "id": "dcba1ee0-9a2a-4d98-bc15-e736aba180d1",
   "metadata": {},
   "source": [
    "# Exploring eBay Car Sales Data\n",
    "> Bộ dữ liệu eBay Car là bộ dữ liệu về việc rao vặt các ô tô đã qua sử dụng trên Kaggle , tải tại [đây](https://www.kaggle.com/datasets/sijovm/used-cars-data-from-ebay-kleinanzeigen)\n",
    "> \n",
    "> Mục đích dự án: Làm sạch dữ liệu và phân tích cơ bản"
   ]
  },
  {
   "cell_type": "code",
   "execution_count": 55,
   "id": "a540b0da-83dc-4261-a4b5-32db884ba4af",
   "metadata": {},
   "outputs": [],
   "source": [
    "import numpy as np\n",
    "import pandas as pd\n",
    "autos = pd.read_csv(\"autos.csv\", encoding = \"latin1 \")"
   ]
  },
  {
   "cell_type": "code",
   "execution_count": 56,
   "id": "d2735ea9-3654-47a8-a258-7be8c0a0a53e",
   "metadata": {},
   "outputs": [],
   "source": [
    "pd.set_option('display.max_rows', None)\n",
    "\n",
    "# Hiển thị toàn bộ cột\n",
    "pd.set_option('display.max_columns', None)"
   ]
  },
  {
   "cell_type": "code",
   "execution_count": 57,
   "id": "5267172c-72b0-403e-a238-8dac9e8da918",
   "metadata": {},
   "outputs": [
    {
     "name": "stdout",
     "output_type": "stream",
     "text": [
      "           dateCrawled                                               name  \\\n",
      "0  2016-03-26 17:47:46                   Peugeot_807_160_NAVTECH_ON_BOARD   \n",
      "1  2016-04-04 13:38:56         BMW_740i_4_4_Liter_HAMANN_UMBAU_Mega_Optik   \n",
      "2  2016-03-26 18:57:24                         Volkswagen_Golf_1.6_United   \n",
      "3  2016-03-12 16:58:10  Smart_smart_fortwo_coupe_softouch/F1/Klima/Pan...   \n",
      "4  2016-04-01 14:38:50  Ford_Focus_1_6_Benzin_TÜV_neu_ist_sehr_gepfleg...   \n",
      "\n",
      "   seller offerType   price   abtest vehicleType  yearOfRegistration  \\\n",
      "0  privat   Angebot  $5,000  control         bus                2004   \n",
      "1  privat   Angebot  $8,500  control   limousine                1997   \n",
      "2  privat   Angebot  $8,990     test   limousine                2009   \n",
      "3  privat   Angebot  $4,350  control  kleinwagen                2007   \n",
      "4  privat   Angebot  $1,350     test       kombi                2003   \n",
      "\n",
      "     gearbox  powerPS   model   odometer  monthOfRegistration fuelType  \\\n",
      "0    manuell      158  andere  150,000km                    3      lpg   \n",
      "1  automatik      286     7er  150,000km                    6   benzin   \n",
      "2    manuell      102    golf   70,000km                    7   benzin   \n",
      "3  automatik       71  fortwo   70,000km                    6   benzin   \n",
      "4    manuell        0   focus  150,000km                    7   benzin   \n",
      "\n",
      "        brand notRepairedDamage          dateCreated  nrOfPictures  \\\n",
      "0     peugeot              nein  2016-03-26 00:00:00             0   \n",
      "1         bmw              nein  2016-04-04 00:00:00             0   \n",
      "2  volkswagen              nein  2016-03-26 00:00:00             0   \n",
      "3       smart              nein  2016-03-12 00:00:00             0   \n",
      "4        ford              nein  2016-04-01 00:00:00             0   \n",
      "\n",
      "   postalCode             lastSeen  \n",
      "0       79588  2016-04-06 06:45:54  \n",
      "1       71034  2016-04-06 14:45:08  \n",
      "2       35394  2016-04-06 20:15:37  \n",
      "3       33729  2016-03-15 03:16:28  \n",
      "4       39218  2016-04-01 14:38:50  \n"
     ]
    }
   ],
   "source": [
    "print(autos.head())"
   ]
  },
  {
   "cell_type": "code",
   "execution_count": 58,
   "id": "f34b189e-7d5f-441f-992e-f5f4561a3387",
   "metadata": {},
   "outputs": [
    {
     "name": "stdout",
     "output_type": "stream",
     "text": [
      "<class 'pandas.core.frame.DataFrame'>\n",
      "RangeIndex: 50000 entries, 0 to 49999\n",
      "Data columns (total 20 columns):\n",
      " #   Column               Non-Null Count  Dtype \n",
      "---  ------               --------------  ----- \n",
      " 0   dateCrawled          50000 non-null  object\n",
      " 1   name                 50000 non-null  object\n",
      " 2   seller               50000 non-null  object\n",
      " 3   offerType            50000 non-null  object\n",
      " 4   price                50000 non-null  object\n",
      " 5   abtest               50000 non-null  object\n",
      " 6   vehicleType          44905 non-null  object\n",
      " 7   yearOfRegistration   50000 non-null  int64 \n",
      " 8   gearbox              47320 non-null  object\n",
      " 9   powerPS              50000 non-null  int64 \n",
      " 10  model                47242 non-null  object\n",
      " 11  odometer             50000 non-null  object\n",
      " 12  monthOfRegistration  50000 non-null  int64 \n",
      " 13  fuelType             45518 non-null  object\n",
      " 14  brand                50000 non-null  object\n",
      " 15  notRepairedDamage    40171 non-null  object\n",
      " 16  dateCreated          50000 non-null  object\n",
      " 17  nrOfPictures         50000 non-null  int64 \n",
      " 18  postalCode           50000 non-null  int64 \n",
      " 19  lastSeen             50000 non-null  object\n",
      "dtypes: int64(5), object(15)\n",
      "memory usage: 7.6+ MB\n",
      "None\n"
     ]
    }
   ],
   "source": [
    "print(autos.info())"
   ]
  },
  {
   "cell_type": "markdown",
   "id": "2c2ed460-9a37-45ce-9dc7-da3f201645ae",
   "metadata": {},
   "source": [
    "#### Ta có thể thấy rằng tên các cột đã được chuẩn hóa theo cùng định dạng nhưng chưa phải dạng Snakecase, hầu hết các cột các có đủ các giá trị, tuy nhiên còn các cột tồn tại Mising Value như vehicleType, gearBox, model, fuelType, notRepaireDamage\n",
    "Các cột bị miss khoảng 7-10%, cá biệt notRepairDamage miss 25%"
   ]
  },
  {
   "cell_type": "markdown",
   "id": "77d1f01f-55cd-43a0-a1ff-fd7b34982968",
   "metadata": {},
   "source": [
    "#  1. Làm sạch dữ liệu và phân tích cơ bản"
   ]
  },
  {
   "cell_type": "markdown",
   "id": "ad07a7d3-90a2-4ea1-9d6c-e25e5b9638e9",
   "metadata": {},
   "source": [
    "### 1.1 Chuẩn hóa tên cột\n"
   ]
  },
  {
   "cell_type": "code",
   "execution_count": 59,
   "id": "3d343c9a-c6eb-48de-ab07-20f6a6c16c58",
   "metadata": {},
   "outputs": [
    {
     "name": "stdout",
     "output_type": "stream",
     "text": [
      "Index(['dateCrawled', 'name', 'seller', 'offerType', 'price', 'abtest',\n",
      "       'vehicleType', 'yearOfRegistration', 'gearbox', 'powerPS', 'model',\n",
      "       'odometer', 'monthOfRegistration', 'fuelType', 'brand',\n",
      "       'notRepairedDamage', 'dateCreated', 'nrOfPictures', 'postalCode',\n",
      "       'lastSeen'],\n",
      "      dtype='object')\n"
     ]
    }
   ],
   "source": [
    "print(autos.columns)"
   ]
  },
  {
   "cell_type": "code",
   "execution_count": 60,
   "id": "34e70174-7d79-4e49-9d66-737a412ca0b9",
   "metadata": {},
   "outputs": [
    {
     "name": "stdout",
     "output_type": "stream",
     "text": [
      "Index(['date_crawled', 'name', 'seller', 'offer_type', 'price', 'abtest',\n",
      "       'vehicle_type', 'registration_year', 'gear_box', 'power_ps', 'model',\n",
      "       'odometer', 'registration_month', 'fuel_type', 'brand',\n",
      "       'unrepaired_damage', 'ad_created', 'nr_of_pictures', 'postal_code',\n",
      "       'last_seen'],\n",
      "      dtype='object')\n"
     ]
    }
   ],
   "source": [
    "autos.columns = ['date_crawled', 'name', 'seller', 'offer_type', 'price', 'abtest',\n",
    "       'vehicle_type', 'registration_year', 'gear_box', 'power_ps', 'model',\n",
    "       'odometer', 'registration_month', 'fuel_type', 'brand',\n",
    "       'unrepaired_damage', 'ad_created', 'nr_of_pictures', 'postal_code',\n",
    "       'last_seen']\n",
    "print(autos.columns)"
   ]
  },
  {
   "cell_type": "code",
   "execution_count": 61,
   "id": "4591f230-3078-45a6-80f6-d7e37d45c620",
   "metadata": {},
   "outputs": [
    {
     "name": "stdout",
     "output_type": "stream",
     "text": [
      "          date_crawled                                               name  \\\n",
      "0  2016-03-26 17:47:46                   Peugeot_807_160_NAVTECH_ON_BOARD   \n",
      "1  2016-04-04 13:38:56         BMW_740i_4_4_Liter_HAMANN_UMBAU_Mega_Optik   \n",
      "2  2016-03-26 18:57:24                         Volkswagen_Golf_1.6_United   \n",
      "3  2016-03-12 16:58:10  Smart_smart_fortwo_coupe_softouch/F1/Klima/Pan...   \n",
      "4  2016-04-01 14:38:50  Ford_Focus_1_6_Benzin_TÜV_neu_ist_sehr_gepfleg...   \n",
      "\n",
      "   seller offer_type   price   abtest vehicle_type  registration_year  \\\n",
      "0  privat    Angebot  $5,000  control          bus               2004   \n",
      "1  privat    Angebot  $8,500  control    limousine               1997   \n",
      "2  privat    Angebot  $8,990     test    limousine               2009   \n",
      "3  privat    Angebot  $4,350  control   kleinwagen               2007   \n",
      "4  privat    Angebot  $1,350     test        kombi               2003   \n",
      "\n",
      "    gear_box  power_ps   model   odometer  registration_month fuel_type  \\\n",
      "0    manuell       158  andere  150,000km                   3       lpg   \n",
      "1  automatik       286     7er  150,000km                   6    benzin   \n",
      "2    manuell       102    golf   70,000km                   7    benzin   \n",
      "3  automatik        71  fortwo   70,000km                   6    benzin   \n",
      "4    manuell         0   focus  150,000km                   7    benzin   \n",
      "\n",
      "        brand unrepaired_damage           ad_created  nr_of_pictures  \\\n",
      "0     peugeot              nein  2016-03-26 00:00:00               0   \n",
      "1         bmw              nein  2016-04-04 00:00:00               0   \n",
      "2  volkswagen              nein  2016-03-26 00:00:00               0   \n",
      "3       smart              nein  2016-03-12 00:00:00               0   \n",
      "4        ford              nein  2016-04-01 00:00:00               0   \n",
      "\n",
      "   postal_code            last_seen  \n",
      "0        79588  2016-04-06 06:45:54  \n",
      "1        71034  2016-04-06 14:45:08  \n",
      "2        35394  2016-04-06 20:15:37  \n",
      "3        33729  2016-03-15 03:16:28  \n",
      "4        39218  2016-04-01 14:38:50  \n"
     ]
    }
   ],
   "source": [
    "print(autos.head())"
   ]
  },
  {
   "cell_type": "markdown",
   "id": "9b62cfab-e093-4e17-b66e-3907c9b2b816",
   "metadata": {},
   "source": [
    "Tên các cột đã được chuẩn hóa theo dạng snake_case, thích hợp hơn với Python và tăng sự nhất quán "
   ]
  },
  {
   "cell_type": "code",
   "execution_count": 62,
   "id": "99e7cb8c-4bb3-4271-ac17-27bfa7152089",
   "metadata": {},
   "outputs": [
    {
     "name": "stdout",
     "output_type": "stream",
     "text": [
      "               date_crawled         name  seller offer_type  price abtest  \\\n",
      "count                 50000        50000   50000      50000  50000  50000   \n",
      "unique                48213        38754       2          2   2357      2   \n",
      "top     2016-03-29 23:42:13  Ford_Fiesta  privat    Angebot     $0   test   \n",
      "freq                      3           78   49999      49999   1421  25756   \n",
      "mean                    NaN          NaN     NaN        NaN    NaN    NaN   \n",
      "std                     NaN          NaN     NaN        NaN    NaN    NaN   \n",
      "min                     NaN          NaN     NaN        NaN    NaN    NaN   \n",
      "25%                     NaN          NaN     NaN        NaN    NaN    NaN   \n",
      "50%                     NaN          NaN     NaN        NaN    NaN    NaN   \n",
      "75%                     NaN          NaN     NaN        NaN    NaN    NaN   \n",
      "max                     NaN          NaN     NaN        NaN    NaN    NaN   \n",
      "\n",
      "       vehicle_type  registration_year gear_box      power_ps  model  \\\n",
      "count         44905       50000.000000    47320  50000.000000  47242   \n",
      "unique            8                NaN        2           NaN    245   \n",
      "top       limousine                NaN  manuell           NaN   golf   \n",
      "freq          12859                NaN    36993           NaN   4024   \n",
      "mean            NaN        2005.073280      NaN    116.355920    NaN   \n",
      "std             NaN         105.712813      NaN    209.216627    NaN   \n",
      "min             NaN        1000.000000      NaN      0.000000    NaN   \n",
      "25%             NaN        1999.000000      NaN     70.000000    NaN   \n",
      "50%             NaN        2003.000000      NaN    105.000000    NaN   \n",
      "75%             NaN        2008.000000      NaN    150.000000    NaN   \n",
      "max             NaN        9999.000000      NaN  17700.000000    NaN   \n",
      "\n",
      "         odometer  registration_month fuel_type       brand unrepaired_damage  \\\n",
      "count       50000        50000.000000     45518       50000             40171   \n",
      "unique         13                 NaN         7          40                 2   \n",
      "top     150,000km                 NaN    benzin  volkswagen              nein   \n",
      "freq        32424                 NaN     30107       10687             35232   \n",
      "mean          NaN            5.723360       NaN         NaN               NaN   \n",
      "std           NaN            3.711984       NaN         NaN               NaN   \n",
      "min           NaN            0.000000       NaN         NaN               NaN   \n",
      "25%           NaN            3.000000       NaN         NaN               NaN   \n",
      "50%           NaN            6.000000       NaN         NaN               NaN   \n",
      "75%           NaN            9.000000       NaN         NaN               NaN   \n",
      "max           NaN           12.000000       NaN         NaN               NaN   \n",
      "\n",
      "                 ad_created  nr_of_pictures   postal_code            last_seen  \n",
      "count                 50000         50000.0  50000.000000                50000  \n",
      "unique                   76             NaN           NaN                39481  \n",
      "top     2016-04-03 00:00:00             NaN           NaN  2016-04-07 06:17:27  \n",
      "freq                   1946             NaN           NaN                    8  \n",
      "mean                    NaN             0.0  50813.627300                  NaN  \n",
      "std                     NaN             0.0  25779.747957                  NaN  \n",
      "min                     NaN             0.0   1067.000000                  NaN  \n",
      "25%                     NaN             0.0  30451.000000                  NaN  \n",
      "50%                     NaN             0.0  49577.000000                  NaN  \n",
      "75%                     NaN             0.0  71540.000000                  NaN  \n",
      "max                     NaN             0.0  99998.000000                  NaN  \n"
     ]
    }
   ],
   "source": [
    "print(autos.describe(include = 'all'))\n"
   ]
  },
  {
   "cell_type": "markdown",
   "id": "ea45eb60-d338-4304-a55e-20dac1d34685",
   "metadata": {},
   "source": [
    "> #### 1. Các cột có ít giá trị chiếm đa số tần suất như cột `seller` có giá trị private chiếm 99% tần suất, `offer_type` với giá trị Angebot, `nr_of_pictures`, đây là các cột không có quá nhiều thông tin quan trọng, đa dạng\n",
    "> #### 2. Các cột cần được chuyển về dạng numberic là `price`, `odometer`\n",
    "> #### 3. Các cột cần điều tra thêm là cột `registration_year` khi có năm dao động từ 1000 - 9999, chắc chắn có sai sót khi nhập liệu . Bên cạnh đó, trong cột `power_ps` có giá trị lớn nhất là 17700 ps, đây là con số chưa thể đạt được của xe ô tô, do đó cần phải xem xét lại những sai sót\n",
    "> "
   ]
  },
  {
   "cell_type": "markdown",
   "id": "03a797c4-9c35-4363-80b9-870fe3c34ee6",
   "metadata": {},
   "source": [
    "## 1.2 : Chuyển định dạng cột ( `price` và `odometer` )\n"
   ]
  },
  {
   "cell_type": "markdown",
   "id": "a694eaf8-1549-427f-a5fe-1168b6e0395b",
   "metadata": {},
   "source": [
    "Để thuận tiện cho việc tính toán, các cột vốn dĩ phải là thuộc kiểu dữ liệu số học như `price` và `odometer` cần phải được thay đổi lại do chúng đang ở kiểu dữ liệu chuỗi"
   ]
  },
  {
   "cell_type": "code",
   "execution_count": 63,
   "id": "9405201f-0522-4378-b83a-190d2c93eee2",
   "metadata": {},
   "outputs": [
    {
     "name": "stdout",
     "output_type": "stream",
     "text": [
      "['$5,000' '$8,500' '$8,990' ... '$385' '$22,200' '$16,995']\n",
      "object\n",
      "['150,000km' '70,000km' '50,000km' '80,000km' '10,000km' '30,000km'\n",
      " '125,000km' '90,000km' '20,000km' '60,000km' '5,000km' '100,000km'\n",
      " '40,000km']\n",
      "object\n"
     ]
    }
   ],
   "source": [
    "print(autos[\"price\"].unique())\n",
    "print(autos[\"price\"].dtype)\n",
    "print(autos[\"odometer\"].unique())\n",
    "print(autos[\"odometer\"].dtype)"
   ]
  },
  {
   "cell_type": "markdown",
   "id": "458ee3f9-4cd9-470e-9d97-387f32bad616",
   "metadata": {},
   "source": [
    "> Các giá trị ở cột price đang ở type object, có pattern là \"$\" + số tiền\n",
    "> Các giá trị ở cột odometer có pattern là số km + \"km\"\n",
    "> Tuy nhiên dấu \",\" ở các giá trị không thể hiện đúng, cần xóa bỏ"
   ]
  },
  {
   "cell_type": "code",
   "execution_count": 64,
   "id": "3f59e87f-24d9-46ea-8b10-376b056b0299",
   "metadata": {},
   "outputs": [],
   "source": [
    "#Xóa kí hiệu $ ở các giá trị cột price và xóa kí hiệu km ở cột odometer\n",
    "autos[\"price\"] = autos[\"price\"].str.replace(\"$\", \"\")\n",
    "autos[\"price\"] = autos[\"price\"].str.replace(\",\", \"\")\n",
    "autos[\"odometer\"] = autos[\"odometer\"].str.replace(\"km\", \"\")\n",
    "autos[\"odometer\"] = autos[\"odometer\"].str.replace(\",\", \"\")"
   ]
  },
  {
   "cell_type": "code",
   "execution_count": 65,
   "id": "2a55c1cd-e622-44af-a203-b9d227b88769",
   "metadata": {},
   "outputs": [],
   "source": [
    "# Chuyển cột price thành dạng float, odometer sang dạng int\n",
    "autos[\"price\"] = autos[\"price\"].astype(int)\n",
    "autos[\"odometer\"] = autos[\"odometer\"].astype(int)"
   ]
  },
  {
   "cell_type": "code",
   "execution_count": 66,
   "id": "7dfbbe36-0c04-4540-95ac-e0f3e48a2e11",
   "metadata": {},
   "outputs": [
    {
     "name": "stdout",
     "output_type": "stream",
     "text": [
      "[ 5000  8500  8990 ...   385 22200 16995]\n",
      "int64\n",
      "[150000  70000  50000  80000  10000  30000 125000  90000  20000  60000\n",
      "   5000 100000  40000]\n",
      "int64\n"
     ]
    }
   ],
   "source": [
    "print(autos[\"price\"].unique())\n",
    "print(autos[\"price\"].dtype)\n",
    "print(autos[\"odometer\"].unique())\n",
    "print(autos[\"odometer\"].dtype)"
   ]
  },
  {
   "cell_type": "code",
   "execution_count": 67,
   "id": "da36c5ad-6a8c-4d72-976a-d94ae24dc249",
   "metadata": {},
   "outputs": [],
   "source": [
    "# Đổi tên cột\n",
    "autos.rename({\"price\" : \"price_dollar\"}, inplace = True, axis = 1)\n",
    "autos.rename({\"odometer\":\"odometer_km\"}, inplace = True, axis = 1)"
   ]
  },
  {
   "cell_type": "code",
   "execution_count": 68,
   "id": "f2f21c50-e5a3-4621-b86f-d77f5eda6eb7",
   "metadata": {},
   "outputs": [
    {
     "name": "stdout",
     "output_type": "stream",
     "text": [
      "<class 'pandas.core.frame.DataFrame'>\n",
      "RangeIndex: 50000 entries, 0 to 49999\n",
      "Data columns (total 20 columns):\n",
      " #   Column              Non-Null Count  Dtype \n",
      "---  ------              --------------  ----- \n",
      " 0   date_crawled        50000 non-null  object\n",
      " 1   name                50000 non-null  object\n",
      " 2   seller              50000 non-null  object\n",
      " 3   offer_type          50000 non-null  object\n",
      " 4   price_dollar        50000 non-null  int64 \n",
      " 5   abtest              50000 non-null  object\n",
      " 6   vehicle_type        44905 non-null  object\n",
      " 7   registration_year   50000 non-null  int64 \n",
      " 8   gear_box            47320 non-null  object\n",
      " 9   power_ps            50000 non-null  int64 \n",
      " 10  model               47242 non-null  object\n",
      " 11  odometer_km         50000 non-null  int64 \n",
      " 12  registration_month  50000 non-null  int64 \n",
      " 13  fuel_type           45518 non-null  object\n",
      " 14  brand               50000 non-null  object\n",
      " 15  unrepaired_damage   40171 non-null  object\n",
      " 16  ad_created          50000 non-null  object\n",
      " 17  nr_of_pictures      50000 non-null  int64 \n",
      " 18  postal_code         50000 non-null  int64 \n",
      " 19  last_seen           50000 non-null  object\n",
      "dtypes: int64(7), object(13)\n",
      "memory usage: 7.6+ MB\n",
      "None\n"
     ]
    }
   ],
   "source": [
    "print(autos.info())"
   ]
  },
  {
   "cell_type": "markdown",
   "id": "c171c31c-388d-4217-ae9c-da2003218b32",
   "metadata": {},
   "source": [
    "### Kiểm tra giá trị các cột `price_dollar` và `odometer_km` và xóa ngoại lệ"
   ]
  },
  {
   "cell_type": "code",
   "execution_count": 69,
   "id": "3c5d1699-ebb4-47a3-b50f-6cd6831c6bf5",
   "metadata": {},
   "outputs": [
    {
     "name": "stdout",
     "output_type": "stream",
     "text": [
      "(13,)\n",
      "count     50000.000000\n",
      "mean     125732.700000\n",
      "std       40042.211706\n",
      "min        5000.000000\n",
      "25%      125000.000000\n",
      "50%      150000.000000\n",
      "75%      150000.000000\n",
      "max      150000.000000\n",
      "Name: odometer_km, dtype: float64\n",
      "odometer_km\n",
      "150000    32424\n",
      "125000     5170\n",
      "100000     2169\n",
      "90000      1757\n",
      "80000      1436\n",
      "70000      1230\n",
      "60000      1164\n",
      "50000      1027\n",
      "40000       819\n",
      "30000       789\n",
      "20000       784\n",
      "10000       264\n",
      "5000        967\n",
      "Name: count, dtype: int64\n"
     ]
    }
   ],
   "source": [
    "print(autos[\"odometer_km\"].unique().shape)\n",
    "print(autos[\"odometer_km\"].describe())\n",
    "print(autos[\"odometer_km\"].value_counts().sort_index(ascending = False))\n"
   ]
  },
  {
   "cell_type": "markdown",
   "id": "a460a9eb-ca31-4e16-b6ab-e5bf7e1933db",
   "metadata": {},
   "source": [
    "* Cột odometer_km có giá trị dao động trong khoảng ( 5000 - 150000 ), các giá trị này là hợp lí, tuy nhiên giá trị 5000km lại có sự tăng lên đáng ngờ\n",
    "* Giá trị 1500000 chiếm đa số, chứng minh đây là bộ dữ liệu chủ yếu đến thị trường xe cũ, đi lâu ngày\n",
    "* Các giá trị dưới 20000 chiếm tỷ trọng nhỏ, do đó bộ dữ liệu không đại diện cho thị trường xe mới lái"
   ]
  },
  {
   "cell_type": "code",
   "execution_count": 70,
   "id": "c3ee20d8-3816-4311-88b6-c492b5c18e4d",
   "metadata": {},
   "outputs": [
    {
     "name": "stdout",
     "output_type": "stream",
     "text": [
      "(2357,)\n",
      "count    5.000000e+04\n",
      "mean     9.840044e+03\n",
      "std      4.811044e+05\n",
      "min      0.000000e+00\n",
      "25%      1.100000e+03\n",
      "50%      2.950000e+03\n",
      "75%      7.200000e+03\n",
      "max      1.000000e+08\n",
      "Name: price_dollar, dtype: float64\n",
      "price_dollar\n",
      "99999999    1\n",
      "27322222    1\n",
      "12345678    3\n",
      "11111111    2\n",
      "10000000    1\n",
      "3890000     1\n",
      "1300000     1\n",
      "1234566     1\n",
      "999999      2\n",
      "999990      1\n",
      "350000      1\n",
      "345000      1\n",
      "299000      1\n",
      "295000      1\n",
      "265000      1\n",
      "259000      1\n",
      "250000      1\n",
      "220000      1\n",
      "198000      1\n",
      "197000      1\n",
      "Name: count, dtype: int64\n"
     ]
    }
   ],
   "source": [
    "print(autos[\"price_dollar\"].unique().shape)\n",
    "print(autos[\"price_dollar\"].describe())\n",
    "print(autos[\"price_dollar\"]\n",
    "      .value_counts()\n",
    "      .sort_index(ascending = False)\n",
    "      .head(20)\n",
    "     )\n"
   ]
  },
  {
   "cell_type": "markdown",
   "id": "caf6a9e8-c891-4e09-8865-7e248c230b7e",
   "metadata": {},
   "source": [
    "Trong cột `Price`, các giá trị dao động từ 0 - 100000000, ở cận phải là con số không tưởng. Bỏ qua một số loại xe có giá trị sưu tầm lớn, thì chiếc xe thương mại đắt nhất 2016 có giá khoảng 11.1 triệu đô. "
   ]
  },
  {
   "cell_type": "markdown",
   "id": "6dbfd129-fde7-4665-b7b1-5f89538a8a38",
   "metadata": {},
   "source": [
    "Có vẻ như ở các giá trị của `price_dollar` tăng đều đặn đến 350000, nhưng đột biến tăng lên ở 999990, do đó ta sẽ xóa bỏ những outliers này"
   ]
  },
  {
   "cell_type": "code",
   "execution_count": 71,
   "id": "b886415e-47f3-4fda-b4ba-4ae5b4e35488",
   "metadata": {},
   "outputs": [],
   "source": [
    "autos = autos[ autos[\"price_dollar\"].between(1,350000)]"
   ]
  },
  {
   "cell_type": "code",
   "execution_count": 72,
   "id": "cbbcf8f8-d0be-47b3-b5be-0929d8a1ed9c",
   "metadata": {},
   "outputs": [
    {
     "name": "stdout",
     "output_type": "stream",
     "text": [
      "count     48565.000000\n",
      "mean       5888.935591\n",
      "std        9059.854754\n",
      "min           1.000000\n",
      "25%        1200.000000\n",
      "50%        3000.000000\n",
      "75%        7490.000000\n",
      "max      350000.000000\n",
      "Name: price_dollar, dtype: float64\n"
     ]
    }
   ],
   "source": [
    "print(autos[\"price_dollar\"].describe())"
   ]
  },
  {
   "cell_type": "markdown",
   "id": "6498e6c9-00e0-4ad0-a8a9-a2f727687923",
   "metadata": {},
   "source": [
    "Giá trị trung bình của `price_dollar` đã giảm từ `9000` xuống `6000`"
   ]
  },
  {
   "cell_type": "markdown",
   "id": "d7eecf6e-be7b-48d7-9257-596c692a4a82",
   "metadata": {},
   "source": [
    "## 1.3: Khám phá các cột ngày, tháng"
   ]
  },
  {
   "cell_type": "markdown",
   "id": "71740112-f90e-4992-810b-55ca3140b6aa",
   "metadata": {},
   "source": [
    "#### Hiện tại chúng ta có các cột biểu thị ngày tháng sau: \n",
    "* `date_crawled`\n",
    "* `last_seen`\n",
    "* `ad_created`\n",
    "* `registration_month`\n",
    "* `registration_year`"
   ]
  },
  {
   "cell_type": "code",
   "execution_count": 73,
   "id": "7dfe4106-4fda-467a-bbdb-fd2322393a7c",
   "metadata": {},
   "outputs": [
    {
     "data": {
      "text/html": [
       "<div>\n",
       "<style scoped>\n",
       "    .dataframe tbody tr th:only-of-type {\n",
       "        vertical-align: middle;\n",
       "    }\n",
       "\n",
       "    .dataframe tbody tr th {\n",
       "        vertical-align: top;\n",
       "    }\n",
       "\n",
       "    .dataframe thead th {\n",
       "        text-align: right;\n",
       "    }\n",
       "</style>\n",
       "<table border=\"1\" class=\"dataframe\">\n",
       "  <thead>\n",
       "    <tr style=\"text-align: right;\">\n",
       "      <th></th>\n",
       "      <th>date_crawled</th>\n",
       "      <th>ad_created</th>\n",
       "      <th>last_seen</th>\n",
       "    </tr>\n",
       "  </thead>\n",
       "  <tbody>\n",
       "    <tr>\n",
       "      <th>0</th>\n",
       "      <td>2016-03-26 17:47:46</td>\n",
       "      <td>2016-03-26 00:00:00</td>\n",
       "      <td>2016-04-06 06:45:54</td>\n",
       "    </tr>\n",
       "    <tr>\n",
       "      <th>1</th>\n",
       "      <td>2016-04-04 13:38:56</td>\n",
       "      <td>2016-04-04 00:00:00</td>\n",
       "      <td>2016-04-06 14:45:08</td>\n",
       "    </tr>\n",
       "    <tr>\n",
       "      <th>2</th>\n",
       "      <td>2016-03-26 18:57:24</td>\n",
       "      <td>2016-03-26 00:00:00</td>\n",
       "      <td>2016-04-06 20:15:37</td>\n",
       "    </tr>\n",
       "    <tr>\n",
       "      <th>3</th>\n",
       "      <td>2016-03-12 16:58:10</td>\n",
       "      <td>2016-03-12 00:00:00</td>\n",
       "      <td>2016-03-15 03:16:28</td>\n",
       "    </tr>\n",
       "    <tr>\n",
       "      <th>4</th>\n",
       "      <td>2016-04-01 14:38:50</td>\n",
       "      <td>2016-04-01 00:00:00</td>\n",
       "      <td>2016-04-01 14:38:50</td>\n",
       "    </tr>\n",
       "  </tbody>\n",
       "</table>\n",
       "</div>"
      ],
      "text/plain": [
       "          date_crawled           ad_created            last_seen\n",
       "0  2016-03-26 17:47:46  2016-03-26 00:00:00  2016-04-06 06:45:54\n",
       "1  2016-04-04 13:38:56  2016-04-04 00:00:00  2016-04-06 14:45:08\n",
       "2  2016-03-26 18:57:24  2016-03-26 00:00:00  2016-04-06 20:15:37\n",
       "3  2016-03-12 16:58:10  2016-03-12 00:00:00  2016-03-15 03:16:28\n",
       "4  2016-04-01 14:38:50  2016-04-01 00:00:00  2016-04-01 14:38:50"
      ]
     },
     "execution_count": 73,
     "metadata": {},
     "output_type": "execute_result"
    }
   ],
   "source": [
    "autos[['date_crawled','ad_created','last_seen']][0:5]"
   ]
  },
  {
   "cell_type": "code",
   "execution_count": 74,
   "id": "4c000d5a-e932-4e09-b5a6-66fa1949895e",
   "metadata": {},
   "outputs": [
    {
     "name": "stdout",
     "output_type": "stream",
     "text": [
      "date_crawled\n",
      "2016-03-05    0.025327\n",
      "2016-03-06    0.014043\n",
      "2016-03-07    0.036014\n",
      "2016-03-08    0.033296\n",
      "2016-03-09    0.033090\n",
      "2016-03-10    0.032184\n",
      "2016-03-11    0.032575\n",
      "2016-03-12    0.036920\n",
      "2016-03-13    0.015670\n",
      "2016-03-14    0.036549\n",
      "2016-03-15    0.034284\n",
      "2016-03-16    0.029610\n",
      "2016-03-17    0.031628\n",
      "2016-03-18    0.012911\n",
      "2016-03-19    0.034778\n",
      "2016-03-20    0.037887\n",
      "2016-03-21    0.037373\n",
      "2016-03-22    0.032987\n",
      "2016-03-23    0.032225\n",
      "2016-03-24    0.029342\n",
      "2016-03-25    0.031607\n",
      "2016-03-26    0.032204\n",
      "2016-03-27    0.031092\n",
      "2016-03-28    0.034860\n",
      "2016-03-29    0.034099\n",
      "2016-03-30    0.033687\n",
      "2016-03-31    0.031834\n",
      "2016-04-01    0.033687\n",
      "2016-04-02    0.035478\n",
      "2016-04-03    0.038608\n",
      "2016-04-04    0.036487\n",
      "2016-04-05    0.013096\n",
      "2016-04-06    0.003171\n",
      "2016-04-07    0.001400\n",
      "Name: proportion, dtype: float64\n"
     ]
    }
   ],
   "source": [
    "print(autos['date_crawled']\n",
    "      .str[:10] # Chọn ra 10 kí tự đầu tiên thể hiện cho ngày crawl data\n",
    "      .value_counts(normalize=True, dropna=False)   \n",
    "      .sort_index()\n",
    "     )"
   ]
  },
  {
   "cell_type": "markdown",
   "id": "e1b969b2-286d-4da0-91a4-de833024fe2d",
   "metadata": {},
   "source": [
    "Tốc độ crawl data không ổn định, có nhiều ngày tỷ lệ nhỏ xen kẽ giữa những ngày có tỷ lệ lớn. Tuy nhiên đây không phải dữ liệu cần quan tâm, có thể bot qua "
   ]
  },
  {
   "cell_type": "code",
   "execution_count": 75,
   "id": "40a841ae-3c04-4af3-892c-36fbf190277d",
   "metadata": {},
   "outputs": [
    {
     "name": "stdout",
     "output_type": "stream",
     "text": [
      "ad_created\n",
      "2015-06-11    0.000021\n",
      "2015-08-10    0.000021\n",
      "2015-09-09    0.000021\n",
      "2015-11-10    0.000021\n",
      "2015-12-05    0.000021\n",
      "2015-12-30    0.000021\n",
      "2016-01-03    0.000021\n",
      "2016-01-07    0.000021\n",
      "2016-01-10    0.000041\n",
      "2016-01-13    0.000021\n",
      "2016-01-14    0.000021\n",
      "2016-01-16    0.000021\n",
      "2016-01-22    0.000021\n",
      "2016-01-27    0.000062\n",
      "2016-01-29    0.000021\n",
      "2016-02-01    0.000021\n",
      "2016-02-02    0.000041\n",
      "2016-02-05    0.000041\n",
      "2016-02-07    0.000021\n",
      "2016-02-08    0.000021\n",
      "2016-02-09    0.000021\n",
      "2016-02-11    0.000021\n",
      "2016-02-12    0.000041\n",
      "2016-02-14    0.000041\n",
      "2016-02-16    0.000021\n",
      "2016-02-17    0.000021\n",
      "2016-02-18    0.000041\n",
      "2016-02-19    0.000062\n",
      "2016-02-20    0.000041\n",
      "2016-02-21    0.000062\n",
      "2016-02-22    0.000021\n",
      "2016-02-23    0.000082\n",
      "2016-02-24    0.000041\n",
      "2016-02-25    0.000062\n",
      "2016-02-26    0.000041\n",
      "2016-02-27    0.000124\n",
      "2016-02-28    0.000206\n",
      "2016-02-29    0.000165\n",
      "2016-03-01    0.000103\n",
      "2016-03-02    0.000103\n",
      "2016-03-03    0.000865\n",
      "2016-03-04    0.001483\n",
      "2016-03-05    0.022897\n",
      "2016-03-06    0.015320\n",
      "2016-03-07    0.034737\n",
      "2016-03-08    0.033316\n",
      "2016-03-09    0.033151\n",
      "2016-03-10    0.031895\n",
      "2016-03-11    0.032904\n",
      "2016-03-12    0.036755\n",
      "2016-03-13    0.017008\n",
      "2016-03-14    0.035190\n",
      "2016-03-15    0.034016\n",
      "2016-03-16    0.030125\n",
      "2016-03-17    0.031278\n",
      "2016-03-18    0.013590\n",
      "2016-03-19    0.033687\n",
      "2016-03-20    0.037949\n",
      "2016-03-21    0.037579\n",
      "2016-03-22    0.032801\n",
      "2016-03-23    0.032060\n",
      "2016-03-24    0.029280\n",
      "2016-03-25    0.031751\n",
      "2016-03-26    0.032266\n",
      "2016-03-27    0.030989\n",
      "2016-03-28    0.034984\n",
      "2016-03-29    0.034037\n",
      "2016-03-30    0.033501\n",
      "2016-03-31    0.031875\n",
      "2016-04-01    0.033687\n",
      "2016-04-02    0.035149\n",
      "2016-04-03    0.038855\n",
      "2016-04-04    0.036858\n",
      "2016-04-05    0.011819\n",
      "2016-04-06    0.003253\n",
      "2016-04-07    0.001256\n",
      "Name: proportion, dtype: float64\n"
     ]
    }
   ],
   "source": [
    "print(autos['ad_created']\n",
    "      .str[:10] # Chọn ra 10 kí tự đầu tiên thể hiện cho ngày tạo quảng cáo\n",
    "      .value_counts(normalize=True, dropna=False)   \n",
    "      .sort_index()\n",
    "     )"
   ]
  },
  {
   "cell_type": "code",
   "execution_count": 76,
   "id": "51bf42c2-52b3-449e-b83b-1cb513fd51e8",
   "metadata": {},
   "outputs": [
    {
     "name": "stdout",
     "output_type": "stream",
     "text": [
      "last_seen\n",
      "2016-03-05    0.001071\n",
      "2016-03-06    0.004324\n",
      "2016-03-07    0.005395\n",
      "2016-03-08    0.007413\n",
      "2016-03-09    0.009595\n",
      "2016-03-10    0.010666\n",
      "2016-03-11    0.012375\n",
      "2016-03-12    0.023783\n",
      "2016-03-13    0.008895\n",
      "2016-03-14    0.012602\n",
      "2016-03-15    0.015876\n",
      "2016-03-16    0.016452\n",
      "2016-03-17    0.028086\n",
      "2016-03-18    0.007351\n",
      "2016-03-19    0.015834\n",
      "2016-03-20    0.020653\n",
      "2016-03-21    0.020632\n",
      "2016-03-22    0.021373\n",
      "2016-03-23    0.018532\n",
      "2016-03-24    0.019767\n",
      "2016-03-25    0.019211\n",
      "2016-03-26    0.016802\n",
      "2016-03-27    0.015649\n",
      "2016-03-28    0.020859\n",
      "2016-03-29    0.022341\n",
      "2016-03-30    0.024771\n",
      "2016-03-31    0.023783\n",
      "2016-04-01    0.022794\n",
      "2016-04-02    0.024915\n",
      "2016-04-03    0.025203\n",
      "2016-04-04    0.024483\n",
      "2016-04-05    0.124761\n",
      "2016-04-06    0.221806\n",
      "2016-04-07    0.131947\n",
      "Name: proportion, dtype: float64\n"
     ]
    }
   ],
   "source": [
    "print(autos['last_seen']\n",
    "      .str[:10] # Chọn ra 10 kí tự đầu tiên thể hiện cho ngày tạo quảng cáo\n",
    "      .value_counts(normalize=True, dropna=False)   \n",
    "      .sort_index()\n",
    "     )"
   ]
  },
  {
   "cell_type": "code",
   "execution_count": 77,
   "id": "fa687fa6-4212-4a17-962f-c9274acafcdb",
   "metadata": {},
   "outputs": [
    {
     "name": "stdout",
     "output_type": "stream",
     "text": [
      "count    48565.000000\n",
      "mean      2004.755421\n",
      "std         88.643887\n",
      "min       1000.000000\n",
      "25%       1999.000000\n",
      "50%       2004.000000\n",
      "75%       2008.000000\n",
      "max       9999.000000\n",
      "Name: registration_year, dtype: float64\n"
     ]
    }
   ],
   "source": [
    "print(autos[\"registration_year\"].describe())"
   ]
  },
  {
   "cell_type": "markdown",
   "id": "d39111af-19e6-476b-bda8-cb2326e142ff",
   "metadata": {},
   "source": [
    "Không có quá nhiều thông tin hữu ích từ các cột ngày tháng, tuy nhiên ở cột registration, tồn tại giá trị vô lí 1000 - 9999"
   ]
  },
  {
   "cell_type": "markdown",
   "id": "17c05ed1-bd50-4a91-ab23-8ee46099989c",
   "metadata": {},
   "source": [
    "## 1.4 Xóa các giá trị sai"
   ]
  },
  {
   "cell_type": "markdown",
   "id": "a99117cc-b215-4095-86ca-1820a37b1f27",
   "metadata": {},
   "source": [
    "Xóa các giá trị sai ở cột `registration_year`"
   ]
  },
  {
   "cell_type": "markdown",
   "id": "2782a1d3-6a51-4249-a2cc-66b7f9e03886",
   "metadata": {},
   "source": [
    "Điều nổi bật tìm thấy khi phân tích dữ liệu trong cột năm đăng kí `registration_year` đó là: \n",
    "* Giá trị năm nhỏ nhất là 1000\n",
    "* Giá trị năm lớn nhất là 9999\n",
    "Cần lưu ý rằng đây là bộ dữ liệu về những chiếc xe cũ từ năm 2016 trờ về trước, do đó ta cần loại bỏ các cột có giá trị vô lí"
   ]
  },
  {
   "cell_type": "code",
   "execution_count": 78,
   "id": "b261c0e6-681e-4093-bb2c-59d4f287c80e",
   "metadata": {},
   "outputs": [
    {
     "name": "stdout",
     "output_type": "stream",
     "text": [
      "registration_year\n",
      "1000       1\n",
      "1001       1\n",
      "1111       1\n",
      "1800       2\n",
      "1910       5\n",
      "1927       1\n",
      "1929       1\n",
      "1931       1\n",
      "1934       2\n",
      "1937       4\n",
      "1938       1\n",
      "1939       1\n",
      "1941       2\n",
      "1943       1\n",
      "1948       1\n",
      "1950       3\n",
      "1951       2\n",
      "1952       1\n",
      "1953       1\n",
      "1954       2\n",
      "1955       2\n",
      "1956       4\n",
      "1957       2\n",
      "1958       4\n",
      "1959       6\n",
      "1960      23\n",
      "1961       6\n",
      "1962       4\n",
      "1963       8\n",
      "1964      12\n",
      "1965      17\n",
      "1966      22\n",
      "1967      26\n",
      "1968      26\n",
      "1969      19\n",
      "1970      38\n",
      "1971      26\n",
      "1972      33\n",
      "1973      23\n",
      "1974      24\n",
      "1975      18\n",
      "1976      21\n",
      "1977      22\n",
      "1978      44\n",
      "1979      34\n",
      "1980      85\n",
      "1981      28\n",
      "1982      41\n",
      "1983      51\n",
      "1984      51\n",
      "1985      95\n",
      "1986      72\n",
      "1987      72\n",
      "1988     135\n",
      "1989     174\n",
      "1990     347\n",
      "1991     339\n",
      "1992     370\n",
      "1993     425\n",
      "1994     629\n",
      "1995    1227\n",
      "1996    1373\n",
      "1997    1951\n",
      "1998    2363\n",
      "1999    2897\n",
      "2000    3156\n",
      "2001    2636\n",
      "2002    2486\n",
      "2003    2699\n",
      "2004    2703\n",
      "2005    2936\n",
      "2006    2670\n",
      "2007    2277\n",
      "2008    2215\n",
      "2009    2085\n",
      "2010    1589\n",
      "2011    1623\n",
      "2012    1310\n",
      "2013     803\n",
      "2014     663\n",
      "2015     392\n",
      "2016    1220\n",
      "2017    1392\n",
      "2018     470\n",
      "2019       2\n",
      "2800       1\n",
      "4100       1\n",
      "4500       1\n",
      "4800       1\n",
      "5000       4\n",
      "5911       1\n",
      "6200       1\n",
      "8888       1\n",
      "9000       1\n",
      "9999       3\n",
      "Name: count, dtype: int64\n"
     ]
    }
   ],
   "source": [
    "print(autos[\"registration_year\"]\n",
    "      .value_counts()\n",
    "      .sort_index()\n",
    "     )"
   ]
  },
  {
   "cell_type": "markdown",
   "id": "1e2d8927-4d90-4252-aa2d-d895f9a52187",
   "metadata": {},
   "source": [
    "Rõ ràng, tồn tại các giá trị đột biến, lưu ý rằng xe ô tô chỉ sản xuất quy mô lớn và hoàn thiện cấu tạo ở những năm 1900, do đó ta loại bỏ các giá trị ngoại lệ trước đó và các giá trị ngoài 2016"
   ]
  },
  {
   "cell_type": "code",
   "execution_count": 79,
   "id": "5b580fee-3fe8-41a9-bbf6-6492b6351d6f",
   "metadata": {},
   "outputs": [],
   "source": [
    "autos = autos[ autos[\"registration_year\"].between(1900, 2016)]"
   ]
  },
  {
   "cell_type": "code",
   "execution_count": 80,
   "id": "7985115e-5e37-4978-afdd-a016778eae1a",
   "metadata": {},
   "outputs": [
    {
     "name": "stdout",
     "output_type": "stream",
     "text": [
      "registration_year\n",
      "1931    0.000021\n",
      "1943    0.000021\n",
      "1939    0.000021\n",
      "1952    0.000021\n",
      "1938    0.000021\n",
      "1948    0.000021\n",
      "1927    0.000021\n",
      "1953    0.000021\n",
      "1929    0.000021\n",
      "1934    0.000043\n",
      "1957    0.000043\n",
      "1954    0.000043\n",
      "1951    0.000043\n",
      "1941    0.000043\n",
      "1955    0.000043\n",
      "1950    0.000064\n",
      "1958    0.000086\n",
      "1937    0.000086\n",
      "1962    0.000086\n",
      "1956    0.000086\n",
      "1910    0.000107\n",
      "1959    0.000129\n",
      "1961    0.000129\n",
      "1963    0.000171\n",
      "1964    0.000257\n",
      "1965    0.000364\n",
      "1975    0.000386\n",
      "1969    0.000407\n",
      "1976    0.000450\n",
      "1977    0.000471\n",
      "1966    0.000471\n",
      "1973    0.000493\n",
      "1960    0.000493\n",
      "1974    0.000514\n",
      "1968    0.000557\n",
      "1971    0.000557\n",
      "1967    0.000557\n",
      "1981    0.000600\n",
      "1972    0.000707\n",
      "1979    0.000728\n",
      "1970    0.000814\n",
      "1982    0.000878\n",
      "1978    0.000943\n",
      "1984    0.001093\n",
      "1983    0.001093\n",
      "1987    0.001542\n",
      "1986    0.001542\n",
      "1980    0.001821\n",
      "1985    0.002035\n",
      "1988    0.002892\n",
      "1989    0.003727\n",
      "1991    0.007262\n",
      "1990    0.007433\n",
      "1992    0.007926\n",
      "2015    0.008397\n",
      "1993    0.009104\n",
      "1994    0.013474\n",
      "2014    0.014203\n",
      "2013    0.017202\n",
      "2016    0.026135\n",
      "1995    0.026285\n",
      "2012    0.028063\n",
      "1996    0.029412\n",
      "2010    0.034040\n",
      "2011    0.034768\n",
      "1997    0.041794\n",
      "2009    0.044665\n",
      "2008    0.047450\n",
      "2007    0.048778\n",
      "1998    0.050620\n",
      "2002    0.053255\n",
      "2001    0.056468\n",
      "2006    0.057197\n",
      "2003    0.057818\n",
      "2004    0.057904\n",
      "1999    0.062060\n",
      "2005    0.062895\n",
      "2000    0.067608\n",
      "Name: proportion, dtype: float64\n"
     ]
    }
   ],
   "source": [
    "print(autos[\"registration_year\"]\n",
    "      .value_counts(normalize = True)\n",
    "      .sort_values()\n",
    "     )"
   ]
  },
  {
   "cell_type": "markdown",
   "id": "e4146fb8-4720-4b4a-9f10-f0410b85d083",
   "metadata": {},
   "source": [
    "Được rồi, các cột bây giờ đã phù hợp với thực tế hơn về ngày đăng kí \n",
    "\n",
    "Số lượng xe được rao bán nhiều nhất là các dòng các năm 1999 - 2011\n",
    "\n",
    "Với ô tô, quãng đường di chuyển một năm rao động từ 10000 - 15000 km là hợp lí, với số lượng xe cũ trong cột `odometer_km` với các giá trị 50000 - 150000 km là chủ yếu thì các ròng xe năm 1999-2011 chiếm đa số trên thị trường là hợp lí"
   ]
  },
  {
   "cell_type": "markdown",
   "id": "2defc811-213c-4251-b8fd-a66fa7f70671",
   "metadata": {},
   "source": [
    "## 1.5 Khám phá giá theo hãng xe"
   ]
  },
  {
   "cell_type": "markdown",
   "id": "cec01742-a241-4473-bbc2-7b3350c4ad65",
   "metadata": {},
   "source": [
    "Wow, có nhiều câu hỏi chúng ta cần quan tâm đến các hãng xe:\n",
    "* Hãng xe nào đang được rao bán nhiều nhất\n",
    "* Hãng xe nào có giá trung bình rẻ nhất\n",
    "* Hãng xe nào có giá trị trung bình đắt nhất\n",
    "Trước hết, hãy xem có bao nhiêu dòng xe đang tồn tại trong bộ dữ liệu"
   ]
  },
  {
   "cell_type": "code",
   "execution_count": 81,
   "id": "f9b1f0e0-20cf-457b-84d3-2df83a7ac2d4",
   "metadata": {},
   "outputs": [
    {
     "name": "stdout",
     "output_type": "stream",
     "text": [
      "brand\n",
      "volkswagen        0.211264\n",
      "bmw               0.110045\n",
      "opel              0.107581\n",
      "mercedes_benz     0.096463\n",
      "audi              0.086566\n",
      "ford              0.069900\n",
      "renault           0.047150\n",
      "peugeot           0.029841\n",
      "fiat              0.025642\n",
      "seat              0.018273\n",
      "skoda             0.016409\n",
      "nissan            0.015274\n",
      "mazda             0.015188\n",
      "smart             0.014160\n",
      "citroen           0.014010\n",
      "toyota            0.012703\n",
      "hyundai           0.010025\n",
      "sonstige_autos    0.009811\n",
      "volvo             0.009147\n",
      "mini              0.008762\n",
      "mitsubishi        0.008226\n",
      "honda             0.007840\n",
      "kia               0.007069\n",
      "alfa_romeo        0.006641\n",
      "porsche           0.006127\n",
      "suzuki            0.005934\n",
      "chevrolet         0.005698\n",
      "chrysler          0.003513\n",
      "dacia             0.002635\n",
      "daihatsu          0.002506\n",
      "jeep              0.002271\n",
      "subaru            0.002142\n",
      "land_rover        0.002099\n",
      "saab              0.001649\n",
      "jaguar            0.001564\n",
      "daewoo            0.001500\n",
      "trabant           0.001392\n",
      "rover             0.001328\n",
      "lancia            0.001071\n",
      "lada              0.000578\n",
      "Name: proportion, dtype: float64\n"
     ]
    }
   ],
   "source": [
    "print(autos[\"brand\"].value_counts(normalize = True ))"
   ]
  },
  {
   "cell_type": "markdown",
   "id": "c3c9179b-dfcf-45e8-8dfc-c6ed72fb1db4",
   "metadata": {},
   "source": [
    "Hầu hết các hãng xe trong bộ dữ liệu đều là các hãng nổi tiếng, tuy nhiên một vài hàng chiếm số lượng xe nhiều hơn, trong khi một số lại chiếm lượng xe nhỏ\n",
    "\n",
    "Để không cần phải quan tâm nhiều, ta chỉ chọn những hãng xe chiếm trên 1% lượng xe để tổng hợp"
   ]
  },
  {
   "cell_type": "code",
   "execution_count": 82,
   "id": "119ad5e3-cae7-4737-abc0-ad19f8ee5a9c",
   "metadata": {},
   "outputs": [
    {
     "name": "stdout",
     "output_type": "stream",
     "text": [
      "['volkswagen', 'bmw', 'opel', 'mercedes_benz', 'audi', 'ford', 'renault', 'peugeot', 'fiat', 'seat', 'skoda', 'nissan', 'mazda', 'smart', 'citroen', 'toyota', 'hyundai']\n"
     ]
    }
   ],
   "source": [
    "# Lấy tên các dòng xe chiếm trên 1%\n",
    "brand = autos[\"brand\"].value_counts(normalize = True )  # Tạo Series chỉ gồm tên hãng xe và tỷ lệ lượng xe\n",
    "brand_over_one_percent = brand[ brand >= 0.01]    # Lấy ra Series tên hãng xe có số lượng lớn hơn 1%\n",
    "list_brand = brand_over_one_percent.index.to_list()   # Tạo list gồm các index của series trên \n",
    "print(list_brand)"
   ]
  },
  {
   "cell_type": "markdown",
   "id": "c6da0bb8-4809-4431-8582-809fe932aedf",
   "metadata": {},
   "source": [
    "Ta đã có tên của các hãng xe chiếm đa số trên thị trường xe cũ trong bộ dữ liệu trên. Tiếp theo ta cần trả lời câu hỏi về giá trị trung bình của các xe theo hãng"
   ]
  },
  {
   "cell_type": "code",
   "execution_count": 83,
   "id": "6c3301cc-75d5-4503-b839-7fb2e11729bd",
   "metadata": {},
   "outputs": [],
   "source": [
    "# Tạo dictionary lưu giá trị trung bình của các hãng xe\n",
    "mean_price_of_each_brand = {}\n",
    "for brand in list_brand:\n",
    "    critiea = autos[\"brand\"] == brand\n",
    "    mean_price = autos.loc[critiea, \"price_dollar\"].mean()\n",
    "    mean_price_of_each_brand[brand] = mean_price\n",
    "    "
   ]
  },
  {
   "cell_type": "code",
   "execution_count": 84,
   "id": "93e83ecd-a9d1-42be-b79c-155cbb364735",
   "metadata": {},
   "outputs": [
    {
     "name": "stdout",
     "output_type": "stream",
     "text": [
      "renault          2474.864607\n",
      "fiat             2813.748538\n",
      "opel             2975.241935\n",
      "peugeot          3094.017229\n",
      "smart            3580.223903\n",
      "ford             3749.469507\n",
      "citroen          3779.139144\n",
      "mazda            4112.596615\n",
      "seat             4397.230950\n",
      "nissan           4743.402525\n",
      "toyota           5167.091062\n",
      "hyundai          5365.254274\n",
      "volkswagen       5402.410262\n",
      "skoda            6368.000000\n",
      "bmw              8332.820518\n",
      "mercedes_benz    8628.450366\n",
      "audi             9336.687454\n",
      "dtype: float64\n"
     ]
    }
   ],
   "source": [
    "mean_price_of_brand = pd.Series(mean_price_of_each_brand) # Chuyển dictionary sang series\n",
    "print(mean_price_of_brand.sort_values())"
   ]
  },
  {
   "cell_type": "markdown",
   "id": "697e379b-2920-4de4-bae9-209b96dc18d0",
   "metadata": {},
   "source": [
    "Thực tế đã được phản ánh đúng !!! \n",
    "\n",
    "* Những chiếc xe hãng AUDI, MERCEDES-BENZ, AUDI thực sự là các hãng xe mà có giá trị cao nhất\n",
    "* Hãng nổi tiếng với giá tầm trung phù hợp với các tầng lớp trung lưu như OPEL, PEUGOET có giá trị thấp nhất\n",
    "* VOLKSWAGEN, HUYNDAI, TOYOTA, NISSAN, MAZDA, FORD là các hãng xe ở giữa\n",
    "Chúng ta sẽ đều bất ngờ khi những chiếc xe TOYOTA, HUYNDAI, NISSAN lại có giá trị trung bình cao hơn MAZDA và FORD\n"
   ]
  },
  {
   "cell_type": "markdown",
   "id": "b0b83e82-11ae-48ba-aa1e-c3af3aed31e1",
   "metadata": {},
   "source": [
    "Chúng ta sẽ so sánh số năm đi trung bình và số km đã đi trung bình của các loại xe"
   ]
  },
  {
   "cell_type": "code",
   "execution_count": 85,
   "id": "c607cff4-0dd9-44bd-bbf2-f43abcb0cf4f",
   "metadata": {},
   "outputs": [
    {
     "name": "stdout",
     "output_type": "stream",
     "text": [
      "volkswagen       13.532752\n",
      "bmw              12.964765\n",
      "opel             13.776782\n",
      "mercedes_benz    13.968688\n",
      "audi             11.844098\n",
      "ford             13.230156\n",
      "renault          13.135847\n",
      "peugeot          12.251256\n",
      "fiat             12.782790\n",
      "seat             11.525205\n",
      "skoda             9.472585\n",
      "nissan           12.562412\n",
      "mazda            13.036671\n",
      "smart            10.517398\n",
      "citroen          11.541284\n",
      "toyota           11.657673\n",
      "hyundai           8.811966\n",
      "dtype: float64\n"
     ]
    }
   ],
   "source": [
    "# Số năm đi trung bình\n",
    "mean_year_of_each_brand = {}\n",
    "for brand in list_brand:\n",
    "    critiea = autos[\"brand\"] == brand\n",
    "    year = 2016 - autos.loc[critiea, \"registration_year\"] \n",
    "    mean_year = year.mean()\n",
    "    mean_year_of_each_brand[brand] = mean_year\n",
    "print(pd.Series(mean_year_of_each_brand))"
   ]
  },
  {
   "cell_type": "code",
   "execution_count": 86,
   "id": "5ed5fe3a-ab54-4165-87ed-094703b1396a",
   "metadata": {},
   "outputs": [
    {
     "name": "stdout",
     "output_type": "stream",
     "text": [
      "volkswagen       128707.158791\n",
      "bmw              132572.513140\n",
      "opel             129310.035842\n",
      "mercedes_benz    130788.363313\n",
      "audi             129157.386785\n",
      "ford             124266.012872\n",
      "renault          128071.331213\n",
      "peugeot          127153.625269\n",
      "fiat             117121.971596\n",
      "seat             121131.301290\n",
      "skoda            110848.563969\n",
      "nissan           118330.995792\n",
      "mazda            124464.033850\n",
      "smart             99326.777610\n",
      "citroen          119694.189602\n",
      "toyota           115944.350759\n",
      "hyundai          106442.307692\n",
      "dtype: float64\n"
     ]
    }
   ],
   "source": [
    "# Số km đi trung bình\n",
    "mean_odo_of_each_brand = {}\n",
    "for brand in list_brand:\n",
    "    critiea = autos[\"brand\"] == brand\n",
    "    odo = autos.loc[critiea, \"odometer_km\"] \n",
    "    mean_odo = odo.mean()\n",
    "    mean_odo_of_each_brand[brand] = mean_odo\n",
    "print(pd.Series(mean_odo_of_each_brand))"
   ]
  },
  {
   "cell_type": "code",
   "execution_count": 87,
   "id": "7b1b77c8-7abe-46ab-aaf3-91a50377ff9a",
   "metadata": {},
   "outputs": [
    {
     "name": "stdout",
     "output_type": "stream",
     "text": [
      "                     price       year       odometer\n",
      "renault        2474.864607  13.135847  128071.331213\n",
      "fiat           2813.748538  12.782790  117121.971596\n",
      "opel           2975.241935  13.776782  129310.035842\n",
      "peugeot        3094.017229  12.251256  127153.625269\n",
      "smart          3580.223903  10.517398   99326.777610\n",
      "ford           3749.469507  13.230156  124266.012872\n",
      "citroen        3779.139144  11.541284  119694.189602\n",
      "mazda          4112.596615  13.036671  124464.033850\n",
      "seat           4397.230950  11.525205  121131.301290\n",
      "nissan         4743.402525  12.562412  118330.995792\n",
      "toyota         5167.091062  11.657673  115944.350759\n",
      "hyundai        5365.254274   8.811966  106442.307692\n",
      "volkswagen     5402.410262  13.532752  128707.158791\n",
      "skoda          6368.000000   9.472585  110848.563969\n",
      "bmw            8332.820518  12.964765  132572.513140\n",
      "mercedes_benz  8628.450366  13.968688  130788.363313\n",
      "audi           9336.687454  11.844098  129157.386785\n"
     ]
    }
   ],
   "source": [
    "df = pd.DataFrame([pd.Series(mean_price_of_each_brand), pd.Series(mean_year_of_each_brand), pd.Series(mean_odo_of_each_brand)]).T\n",
    "df.columns = [\"price\", \"year\", \"odometer\"]\n",
    "print(df.sort_values(by = [\"price\", \"year\", \"odometer\"]))\n"
   ]
  },
  {
   "cell_type": "markdown",
   "id": "681b7341-01b6-4549-ac2e-6f1291402564",
   "metadata": {},
   "source": [
    "Các xe hãng Ford và Mazda đều có số năm di chuyển và số km di chuyển lớn hơn Huyndai, Toyota và Nissan, do đó giá xe thấp hơn cũng là điều đương nhiên.\n",
    "\n",
    "Tuy Huyndai có lượng năm đi và số km di chuyển ít nhất nhưng giá không cao hơn so với các dòng Toyota, Nissan là bao nhiêu, do đó Huyndai có thể sẽ là hãng xe giá thấp hơn các hãng xe khác nếu cùng số năm, số km di chuyển\n",
    "\n",
    "Chúng ta cũng có thể hiểu rằng đây là bộ dữ liệu được lấy từ người Đức, do đó giá những chiếc xe nội địa sẽ rẻ hơn những loại xe nhập khẩu từ nước ngoài như các hãng xe Nhật, Hàn"
   ]
  },
  {
   "cell_type": "markdown",
   "id": "adba6e5a-04f5-44d9-889b-eeee830244d0",
   "metadata": {},
   "source": [
    "# 2. Làm sạch, phân tích mở rộng"
   ]
  },
  {
   "cell_type": "markdown",
   "id": "8bc428fc-b612-4d3e-a5a8-21568702b35a",
   "metadata": {},
   "source": [
    "### 2.1 Chuyển đổi từ tiếng Đức sang tiếng Anh"
   ]
  },
  {
   "cell_type": "markdown",
   "id": "b2f3f393-4efc-4167-b682-306cc9b8f61a",
   "metadata": {},
   "source": [
    "Các cột cần đổi là các cột có giá trị là các string, chỉ có từ 1 - 5 giá trị, các cột đó là `seller`,`offer_type`,`gear_box`,`unrepaired_damage`"
   ]
  },
  {
   "cell_type": "code",
   "execution_count": 88,
   "id": "8abc85ee-2042-4dc2-8e61-00f8d63b7ff4",
   "metadata": {},
   "outputs": [
    {
     "name": "stdout",
     "output_type": "stream",
     "text": [
      "['privat' 'gewerblich']\n",
      "['Angebot']\n",
      "['manuell' 'automatik' nan]\n",
      "['nein' nan 'ja']\n"
     ]
    }
   ],
   "source": [
    "print(autos[\"seller\"].unique())\n",
    "print(autos[\"offer_type\"].unique())\n",
    "print(autos[\"gear_box\"].unique())\n",
    "print(autos[\"unrepaired_damage\"].unique())\n"
   ]
  },
  {
   "cell_type": "code",
   "execution_count": 89,
   "id": "47fcb11f-f6a5-420e-9228-12286dd152bd",
   "metadata": {},
   "outputs": [],
   "source": [
    "autos[\"seller\"] = autos[\"seller\"].map( {\"privat\" : \"private\", \"gewerblich\": \"commercial\"})\n",
    "autos[\"offer_type\"] = autos[\"offer_type\"].map({'Angebot': 'offer', 'Gesuch': 'request'})\n",
    "autos['gear_box'] = autos['gear_box'].map({'manuell': 'manual', 'automatik': 'automatic'})\n",
    "autos['unrepaired_damage'] = autos['unrepaired_damage'].map({'ja': 'yes', 'nein': 'no'})"
   ]
  },
  {
   "cell_type": "markdown",
   "id": "98d9986c-9db5-4856-9188-5606592c78c0",
   "metadata": {},
   "source": [
    "### 2.2 Xếp hạng các model phổ biến"
   ]
  },
  {
   "cell_type": "code",
   "execution_count": 90,
   "id": "27545546-64f4-4fb4-8438-4b287cba7e4d",
   "metadata": {},
   "outputs": [
    {
     "name": "stdout",
     "output_type": "stream",
     "text": [
      "brand          model      \n",
      "volkswagen     golf           3707\n",
      "bmw            3er            2615\n",
      "volkswagen     polo           1609\n",
      "opel           corsa          1592\n",
      "volkswagen     passat         1349\n",
      "opel           astra          1348\n",
      "audi           a4             1231\n",
      "mercedes_benz  c_klasse       1136\n",
      "bmw            5er            1132\n",
      "mercedes_benz  e_klasse        958\n",
      "audi           a3              825\n",
      "               a6              797\n",
      "ford           focus           762\n",
      "               fiesta          722\n",
      "volkswagen     transporter     674\n",
      "renault        twingo          615\n",
      "peugeot        2_reihe         600\n",
      "smart          fortwo          550\n",
      "opel           vectra          544\n",
      "mercedes_benz  a_klasse        539\n",
      "Name: count, dtype: int64\n"
     ]
    }
   ],
   "source": [
    "print(autos[[\"brand\", \"model\"]]\n",
    "      .value_counts()\n",
    "      .sort_values(ascending = False)\n",
    "      .head(20)\n",
    "     )"
   ]
  },
  {
   "cell_type": "markdown",
   "id": "6ddea463-a204-4f85-9b51-eb7da0b0eae0",
   "metadata": {},
   "source": [
    "Volkswagen là hãng phổ biến nhất "
   ]
  },
  {
   "cell_type": "markdown",
   "id": "eab1c333-e0ec-4286-948d-8a9d812e44a4",
   "metadata": {},
   "source": [
    "### 2.3 Chia odometer theo khoảng"
   ]
  },
  {
   "cell_type": "markdown",
   "id": "603b1494-ea66-4bbe-801b-ff40b9bfb360",
   "metadata": {},
   "source": [
    "Chúng ta phân chia số lượng theo các khoảng trong cột odometer với các khoảng : \n",
    "* < 50k\n",
    "* 50k - 100k\n",
    "* 100k - 150k\n",
    "* `> 150k"
   ]
  },
  {
   "cell_type": "code",
   "execution_count": 101,
   "id": "e15f780b-8b52-4754-81f2-6530bb09bd5d",
   "metadata": {},
   "outputs": [
    {
     "name": "stdout",
     "output_type": "stream",
     "text": [
      "km_group\n",
      "100k - 150k    34942\n",
      "50k - 100k      7421\n",
      "<= 50k          4318\n",
      ">150k              0\n",
      "Name: count, dtype: int64\n"
     ]
    }
   ],
   "source": [
    "# Tạo category với pandas.cut()\n",
    "bins = [0,50000,100000,150000, np.inf]\n",
    "label = [\"<= 50k\", \"50k - 100k\", \"100k - 150k\", \">150k\" ]\n",
    "autos[\"km_group\"] = pd.cut(autos[\"odometer_km\"], bins = bins, labels = label)\n",
    "print(autos[\"km_group\"]\n",
    "      .value_counts()\n",
    "      .sort_values(ascending = False)\n",
    "     )"
   ]
  },
  {
   "cell_type": "code",
   "execution_count": 120,
   "id": "d9f3e747-a282-437a-9882-a66b92d76250",
   "metadata": {},
   "outputs": [
    {
     "name": "stdout",
     "output_type": "stream",
     "text": [
      "      km_group     avg_price\n",
      "0       <= 50k  14890.828856\n",
      "1   50k - 100k   9595.419350\n",
      "2  100k - 150k   4107.938641\n"
     ]
    }
   ],
   "source": [
    "# Tính giá trung bình theo lượng km đi\n",
    "mean = autos.groupby(\"km_group\", observed=True)[\"price_dollar\"].mean().rename(\"avg_price\").reset_index()\n",
    "print(mean)"
   ]
  },
  {
   "cell_type": "markdown",
   "id": "cb71703c-5d40-4bd4-9daf-942016d0ebb4",
   "metadata": {},
   "source": [
    "### 2.4 So sánh giá giữa các xe đã qua sửa chữa và chưa qua sửa chữa"
   ]
  },
  {
   "cell_type": "code",
   "execution_count": 142,
   "id": "80bebe09-33c5-413b-9f36-2d5366a75539",
   "metadata": {},
   "outputs": [
    {
     "name": "stdout",
     "output_type": "stream",
     "text": [
      "Mean price of unrepaired car more 3.196593613330288x than mean price of repaired cars\n"
     ]
    }
   ],
   "source": [
    "mean_repaired = autos.loc[autos[\"unrepaired_damage\"] == \"yes\", \"price_dollar\"].mean()\n",
    "mean_unrepaired = autos.loc[autos[\"unrepaired_damage\"] == \"no\", \"price_dollar\"].mean()\n",
    "rate = mean_unrepaired / mean_repaired\n",
    "print(f'Mean price of unrepaired car more {rate}x than mean price of repaired cars')"
   ]
  },
  {
   "cell_type": "code",
   "execution_count": 140,
   "id": "83724cde-b074-4131-8358-7932c47ae00f",
   "metadata": {},
   "outputs": [
    {
     "name": "stdout",
     "output_type": "stream",
     "text": [
      "2241.146035242291\n",
      "7164.033102796004\n"
     ]
    }
   ],
   "source": [
    "print(mean_unrepaired)\n",
    "print(mean_repaired)"
   ]
  },
  {
   "cell_type": "markdown",
   "id": "b9612ec1-d301-485e-b0f4-4c706ba8bb18",
   "metadata": {},
   "source": [
    "## Kết luận"
   ]
  },
  {
   "cell_type": "markdown",
   "id": "b28f9dcb-93c9-4461-92cc-b397c79b102e",
   "metadata": {},
   "source": [
    "Trong quá trình phân tích và làm sạch dữ liệu, chúng ta đã làm việc với bộ dữ liệu những xe đã qua sử dụng và được rao vặt trên trang eBay của Đức.\n",
    "Chúng ta đã loại bỏ những giá trị không thực tế, để lại các xe được sản xuất từ 1900 - 2016, loại bỏ các xe có giá ngoại lệ tăng vọt từ 350000 $ trờ lên. \n",
    "\n",
    "Thực tế rằng chúng ta có thể kết luận một số thứ sau:\n",
    "\n",
    "1. Đây là bộ dữ liệu của người Đức do đó các hãng xe Đức chiếm đa số\n",
    "2. Các loại xe nhập khẩu từ nước ngoài, cho dù đối với chúng ta đó là các hãng xe nổi tiếng với giá cả tầm trung thì khi vào Đức, giá của nó vẫn không hề rẻ hơn một số hãng mà chúng ta cho là cao cấp. Các hãng xe Đức cũng có sự cách biệt nhau về giá trị, cụ thể\n",
    "    * Xe của các hãng ở top đầu Là AUDI, MERCEDES-BENZ, BMW vẫn là những hãng xe mà có giá trị cao nhất khi đã qua sử dụng 8000 - 10000$\n",
    "      \n",
    "    * Xe của hãng VOLKSWAGEN là những xe ở tầm trung 5500$\n",
    "  \n",
    "      \n",
    "    * Trong khi xe của MAZDA, FORD là các hãng xe có giá trị thấp hơn cả với giá trị trung bình 3500 - 4500 $\n",
    "3. Các xe cũ được bán hầu hết đã được đi trên 10 - 11 năm, có số cây đi được là trên 150000km, giá trị các xe giảm dần theo số lượng cây số đi được và số năm từ ngày lăn bánh, tuy nhiên sự tương quan này chỉ giời hạn trong bộ dữ liệu được DATAQUEST cung cấp\n",
    "4. Các xe chưa từng qua sử chữa có giá cao gấp 2 - 3 lẫn những xe đã trải qua sử chữa "
   ]
  }
 ],
 "metadata": {
  "kernelspec": {
   "display_name": "Python 3 (ipykernel)",
   "language": "python",
   "name": "python3"
  },
  "language_info": {
   "codemirror_mode": {
    "name": "ipython",
    "version": 3
   },
   "file_extension": ".py",
   "mimetype": "text/x-python",
   "name": "python",
   "nbconvert_exporter": "python",
   "pygments_lexer": "ipython3",
   "version": "3.12.4"
  }
 },
 "nbformat": 4,
 "nbformat_minor": 5
}
